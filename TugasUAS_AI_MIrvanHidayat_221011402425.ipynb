{
 "cells": [
  {
   "cell_type": "code",
   "execution_count": 38,
   "metadata": {},
   "outputs": [],
   "source": [
    "#Tugas UAS Artificial Inteligence\n",
    "#Nama  : Muhammad Irvan Hidayat\n",
    "#NIM   : 221011402425\n",
    "#Kelas : 05TPLM007\n",
    "\n",
    "company_detail_list = [\n",
    "    {\n",
    "        'name': 'Gorrrior',\n",
    "        'domain': 'Kehutanan',\n",
    "        'country': 'United States'\n",
    "    },\n",
    "    {\n",
    "        'name': 'Unilevieure',\n",
    "        'domain': 'Teknologi',\n",
    "        'country': 'United Kingdom'\n",
    "    },\n",
    "    {\n",
    "        'name': 'Mineralleee',\n",
    "        'domain': 'Kesehatan',\n",
    "        'country': 'United States'\n",
    "    }\n",
    "]\n",
    "\n",
    "employee_detail_list = [\n",
    "    {\n",
    "        'name': 'EMP-0001',\n",
    "        'first_name': 'John',\n",
    "        'last_name': 'Doe',\n",
    "        'full_name': 'John Doe',\n",
    "        'company': 'Gorrrior',\n",
    "        'nationality': 'Australia'\n",
    "    },\n",
    "    {\n",
    "        'name': 'EMP-0002',\n",
    "        'first_name': 'Tom',\n",
    "        'last_name': 'Smith',\n",
    "        'full_name': 'Tom Smith',\n",
    "        'company': 'Mineralleee',\n",
    "        'nationality': 'United States'\n",
    "    },\n",
    "    {\n",
    "        'name': 'EMP-0003',\n",
    "        'first_name': 'Andrew',\n",
    "        'last_name': 'Sebastian',\n",
    "        'full_name': 'Andrew Sebastian',\n",
    "        'company': 'Unilevieure',\n",
    "        'nationality': 'United States'\n",
    "    },\n",
    "    {\n",
    "        'name': 'EMP-0005',\n",
    "        'first_name': 'Ying Han',\n",
    "        'last_name': 'Tan',\n",
    "        'full_name': 'Ying Han Tan',\n",
    "        'company': 'Gorrrior',\n",
    "        'nationality': 'Australia'\n",
    "    },\n",
    "    {\n",
    "        'name': 'EMP-0015',\n",
    "        'first_name': 'Kenneth',\n",
    "        'last_name': 'Ng',\n",
    "        'full_name': 'Kenneth Ng',\n",
    "        'company': 'Unilevieure',\n",
    "        'nationality': 'United States'\n",
    "    },\n",
    "    {\n",
    "        'name': 'EMP-0018',\n",
    "        'first_name': 'Rubby',\n",
    "        'last_name': 'Lee',\n",
    "        'full_name': 'Rubby Lee',\n",
    "        'company': 'Mineralleee',\n",
    "        'nationality': 'Hong Kong'\n",
    "    },\n",
    "    {\n",
    "        'name': 'EMP-0017',\n",
    "        'first_name': 'Robert',\n",
    "        'last_name': 'White',\n",
    "        'full_name': 'Robert White',\n",
    "        'company': 'Gorrrior',\n",
    "        'nationality': 'United Kingdom'\n",
    "    }\n",
    "]"
   ]
  },
  {
   "cell_type": "code",
   "execution_count": 39,
   "metadata": {},
   "outputs": [],
   "source": [
    "data_graph = {\n",
    "    \"company\": [data[\"name\"] for data in company_detail_list] # x\n",
    "}"
   ]
  },
  {
   "cell_type": "code",
   "execution_count": 40,
   "metadata": {},
   "outputs": [
    {
     "data": {
      "text/plain": [
       "['Gorrrior', 'Unilevieure', 'Mineralleee']"
      ]
     },
     "execution_count": 40,
     "metadata": {},
     "output_type": "execute_result"
    }
   ],
   "source": [
    "data_map = [data[\"name\"] for data in company_detail_list]\n",
    "data_map"
   ]
  },
  {
   "cell_type": "code",
   "execution_count": 41,
   "metadata": {},
   "outputs": [
    {
     "data": {
      "text/plain": [
       "['Unilevieure', 'Mineralleee', 'Gorrrior']"
      ]
     },
     "execution_count": 41,
     "metadata": {},
     "output_type": "execute_result"
    }
   ],
   "source": [
    "# Tugas 1\n",
    "\n",
    "name = data_map.copy()  # Membuat salinan data_map agar data_map asli tidak terpengaruh\n",
    "name.sort(reverse=True)\n",
    "name"
   ]
  },
  {
   "cell_type": "code",
   "execution_count": 42,
   "metadata": {},
   "outputs": [
    {
     "name": "stdout",
     "output_type": "stream",
     "text": [
      "Company 1: Kehutanan (\"United States\")\n",
      "Company 2: Teknologi (\"United Kingdom\")\n",
      "Company 3: Kesehatan (\"United States\")\n"
     ]
    }
   ],
   "source": [
    "# Tugas 2\n",
    "\n",
    "for index, company in enumerate(company_detail_list, start=1):\n",
    "    print(f\"Company {index}: {company['domain']} (\\\"{company['country']}\\\")\")"
   ]
  },
  {
   "cell_type": "code",
   "execution_count": 43,
   "metadata": {},
   "outputs": [
    {
     "name": "stdout",
     "output_type": "stream",
     "text": [
      "Company: Gorrrior\n",
      "  - John Doe\n",
      "  - Ying Han Tan\n",
      "  - Robert White\n",
      "Company: Mineralleee\n",
      "  - Tom Smith\n",
      "  - Rubby Lee\n",
      "Company: Unilevieure\n",
      "  - Andrew Sebastian\n",
      "  - Kenneth Ng\n"
     ]
    }
   ],
   "source": [
    "#Tugas 3\n",
    "\n",
    "# inisialisasi dictionary untuk mengelompokkan full_name berdasarkan company\n",
    "data_map = defaultdict(list)\n",
    "\n",
    "# loop untuk menambahkan full_name \n",
    "for employee in employee_detail_list:\n",
    "    company_name = employee['company']\n",
    "    full_name = employee['full_name']\n",
    "    data_map[company_name].append(full_name)\n",
    "\n",
    "#hasil\n",
    "for company, full_names in data_map.items():\n",
    "    print(f\"Company: {company}\")\n",
    "    for name in full_names:\n",
    "        print(f\"  - {name}\")"
   ]
  },
  {
   "cell_type": "code",
   "execution_count": 46,
   "metadata": {},
   "outputs": [
    {
     "name": "stdout",
     "output_type": "stream",
     "text": [
      "{'full_name': 'John Doe', 'company': 'Gorrrior', 'country': 'Australia'}\n",
      "{'full_name': 'Tom Smith', 'company': 'Mineralleee', 'country': 'United States'}\n",
      "{'full_name': 'Andrew Sebastian', 'company': 'Unilevieure', 'country': 'United States'}\n",
      "{'full_name': 'Ying Han Tan', 'company': 'Gorrrior', 'country': 'Australia'}\n",
      "{'full_name': 'Kenneth Ng', 'company': 'Unilevieure', 'country': 'United States'}\n",
      "{'full_name': 'Rubby Lee', 'company': 'Mineralleee', 'country': 'Hong Kong'}\n",
      "{'full_name': 'Robert White', 'company': 'Gorrrior', 'country': 'United Kingdom'}\n"
     ]
    }
   ],
   "source": [
    "# Menginisialisasi list untuk menyimpan hasil\n",
    "formatted_employee_list = []\n",
    "\n",
    "# Loop untuk membuat struktur data yang diinginkan\n",
    "for employee in employee_detail_list:\n",
    "    # Membuat format baru dan menambahkannya ke list hasil\n",
    "    formatted_employee = {\n",
    "        \"full_name\": employee['full_name'],\n",
    "        \"company\": employee['company'],  # Mengambil nama perusahaan\n",
    "        \"country\": employee['nationality']  # Mengambil negara dari atribut nationality\n",
    "    }\n",
    "    formatted_employee_list.append(formatted_employee)\n",
    "\n",
    "# Cetak hasil\n",
    "for emp in formatted_employee_list:\n",
    "    print(emp)"
   ]
  },
  {
   "cell_type": "code",
   "execution_count": 48,
   "metadata": {},
   "outputs": [
    {
     "name": "stdout",
     "output_type": "stream",
     "text": [
      "{'company': 'Gorrrior', 'employee_nationality': {'Australia': 2, 'United Kingdom': 1}}\n",
      "{'company': 'Mineralleee', 'employee_nationality': {'United States': 1, 'Hong Kong': 1}}\n",
      "{'company': 'Unilevieure', 'employee_nationality': {'United States': 2}}\n"
     ]
    }
   ],
   "source": [
    "#Tugas 5\n",
    "\n",
    "# Menginisialisasi dictionary untuk menyimpan hasil\n",
    "company_nationality_count = defaultdict(lambda: defaultdict(int))\n",
    "\n",
    "# Loop melalui detail karyawan untuk menghitung jumlah berdasarkan nationality\n",
    "for employee in employee_detail_list:\n",
    "    company_name = employee['company']\n",
    "    nationality = employee['nationality']\n",
    "    company_nationality_count[company_name][nationality] += 1\n",
    "\n",
    "# Membuat list hasil akhir dengan format yang diinginkan\n",
    "result = []\n",
    "for company, nationality_count in company_nationality_count.items():\n",
    "    result.append({\n",
    "        \"company\": company,\n",
    "        \"employee_nationality\": dict(nationality_count)\n",
    "    })\n",
    "\n",
    "# Cetak hasil\n",
    "for entry in result:\n",
    "    print(entry)"
   ]
  }
 ],
 "metadata": {
  "kernelspec": {
   "display_name": "Python 3",
   "language": "python",
   "name": "python3"
  },
  "language_info": {
   "codemirror_mode": {
    "name": "ipython",
    "version": 3
   },
   "file_extension": ".py",
   "mimetype": "text/x-python",
   "name": "python",
   "nbconvert_exporter": "python",
   "pygments_lexer": "ipython3",
   "version": "3.13.0"
  }
 },
 "nbformat": 4,
 "nbformat_minor": 2
}
